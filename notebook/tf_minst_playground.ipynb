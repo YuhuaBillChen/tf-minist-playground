{
 "cells": [
  {
   "cell_type": "code",
   "execution_count": 4,
   "metadata": {
    "collapsed": false
   },
   "outputs": [],
   "source": [
    "import tensorflow as tf\n",
    "import sys\n",
    "import matplotlib.pyplot as plt\n",
    "import numpy as np\n",
    "import os"
   ]
  },
  {
   "cell_type": "code",
   "execution_count": 5,
   "metadata": {
    "collapsed": true
   },
   "outputs": [],
   "source": [
    "sys.path.append(\"../\");"
   ]
  },
  {
   "cell_type": "code",
   "execution_count": 6,
   "metadata": {
    "collapsed": false
   },
   "outputs": [],
   "source": [
    "import sropts\n",
    "from neural_networks import *"
   ]
  },
  {
   "cell_type": "code",
   "execution_count": 7,
   "metadata": {
    "collapsed": false
   },
   "outputs": [
    {
     "name": "stdout",
     "output_type": "stream",
     "text": [
      "Extracting ../data/MNIST/train-images-idx3-ubyte.gz\n",
      "Extracting ../data/MNIST/train-labels-idx1-ubyte.gz\n",
      "Extracting ../data/MNIST/t10k-images-idx3-ubyte.gz\n",
      "Extracting ../data/MNIST/t10k-labels-idx1-ubyte.gz\n"
     ]
    }
   ],
   "source": [
    "# Download / load MNIST data\n",
    "train_dir = '../data/MNIST/';\n",
    "from tensorflow.examples.tutorials.mnist import input_data\n",
    "mnist = input_data.read_data_sets(train_dir, one_hot=True);"
   ]
  },
  {
   "cell_type": "code",
   "execution_count": 8,
   "metadata": {
    "collapsed": false
   },
   "outputs": [],
   "source": [
    "# Parms\n",
    "batch_size = 64;\n",
    "image_size = 28;\n",
    "category = 10;\n",
    "learning_rate=1e-3;\n",
    "chkpt_dir = \"../chkpt/\";\n",
    "if not os.path.exists(chkpt_dir):\n",
    "    os.makedirs(chkpt_dir);"
   ]
  },
  {
   "cell_type": "code",
   "execution_count": 9,
   "metadata": {
    "collapsed": false
   },
   "outputs": [],
   "source": [
    "# Build network\n",
    "\n",
    "x = tf.placeholder(dtype=tf.float32,shape=(batch_size, image_size, image_size,1), name='in-img');\n",
    "y = tf.placeholder(dtype=tf.float32, shape=(batch_size, category), name='in-label');\n",
    "is_train = tf.placeholder(dtype=tf.bool, shape=[], name='is_train');\n",
    "\n",
    "m_nn = NeuralNetworks.ConvMNIST(h_dim=32, fc_dim = 256, block_num=8, is_train=is_train);\n",
    "predict = m_nn.nn_predict(x, reuse=False); \n",
    "m_loss = m_nn.loss(predict=predict, real=y);\n",
    "correct_prediction = tf.equal(tf.argmax(predict,1), tf.argmax(y,1))\n",
    "accuracy = tf.reduce_mean(tf.cast(correct_prediction, tf.float32))\n",
    "\n",
    "opt_op = tf.train.AdamOptimizer(learning_rate=learning_rate).minimize(m_loss);\n",
    "init_op = tf.global_variables_initializer();\n",
    "\n",
    "saver = tf.train.Saver();\n"
   ]
  },
  {
   "cell_type": "code",
   "execution_count": null,
   "metadata": {
    "collapsed": false
   },
   "outputs": [],
   "source": [
    "#Training phase\n",
    "with tf.Session() as sess:\n",
    "    sess.run(init_op);\n",
    "    val_batches = int(0.2 * mnist.train.num_examples / batch_size);\n",
    "    best_val_acc = 0;\n",
    "    for epoch in xrange(25):\n",
    "        count = 0;\n",
    "        total_acc = []\n",
    "        while count < (mnist.train.num_examples- val_batches*batch_size):\n",
    "            count += batch_size;\n",
    "            [input_x, input_y] = mnist.train.next_batch(batch_size=batch_size);\n",
    "            input_x = np.reshape(input_x, newshape=(batch_size,28,28,1));\n",
    "            \n",
    "            [comp_loss,comp_acc, __] = sess.run([m_loss, accuracy, opt_op], feed_dict={\n",
    "                    x: input_x,\n",
    "                    y: input_y,\n",
    "                    is_train: True\n",
    "                });\n",
    "            total_acc.append(comp_acc);\n",
    "            if count/batch_size % 10 == 0:\n",
    "                print \"\\r\\bepoch:\",epoch, \" image#:\", count, \" avg acc:\", np.mean(total_acc), \" loss:\", comp_loss, \"acc:\", comp_acc, \n",
    "        \n",
    "        # Valuation for the last batch\n",
    "        count = 0;\n",
    "        real_labels = [];\n",
    "        pred_labels = [];\n",
    "        while count < val_batches * batch_size:\n",
    "            count += batch_size;\n",
    "            [input_x, input_y] = mnist.train.next_batch(batch_size=batch_size);\n",
    "            input_x = np.reshape(input_x, newshape=(batch_size,28,28,1));\n",
    "            [comp_predict_val] = sess.run([predict], feed_dict={\n",
    "                    x: input_x,\n",
    "                    y: input_y,\n",
    "                    is_train: False\n",
    "                });\n",
    "            pred_labels.extend(comp_predict_val);\n",
    "            real_labels.extend(input_y);            \n",
    "        val_corr = np.equal(np.argmax(pred_labels,1), np.argmax(real_labels,1));\n",
    "        val_acc = np.mean(val_corr.astype(np.float32));\n",
    "        print \"val: \", val_acc,\n",
    "        if val_acc > best_val_acc:\n",
    "            saver.save(sess, chkpt_dir+\"model.chkpt\")\n",
    "            best_val_acc = val_acc;\n",
    "            print \"model saved!\";\n",
    "        else:\n",
    "            print \"\";\n",
    "    sess.close();"
   ]
  },
  {
   "cell_type": "code",
   "execution_count": null,
   "metadata": {
    "collapsed": false
   },
   "outputs": [],
   "source": [
    "# Testing phase\n",
    "with tf.Session() as sess:\n",
    "    saver.restore(sess,chkpt_dir+\"model.chkpt\");\n",
    "#     saver.restore(sess, saver.last_checkpoints[-1]); \n",
    "    count = 0;\n",
    "    real_labels = [];\n",
    "    pred_labels = [];\n",
    "    while count <= mnist.test.num_examples-batch_size:\n",
    "        count += batch_size;\n",
    "        [input_x, input_y] = mnist.test.next_batch(batch_size=batch_size);\n",
    "        input_x = np.reshape(input_x, newshape=(batch_size,28,28,1));\n",
    "        [comp_predict_test] = sess.run([predict], feed_dict={\n",
    "                x: input_x,\n",
    "                y: input_y,\n",
    "                is_train: False\n",
    "            });         \n",
    "        pred_labels.extend(comp_predict_test);\n",
    "        real_labels.extend(input_y);\n",
    "    print \"Forward completed\";\n",
    "    test_corr = np.equal(np.argmax(pred_labels,1), np.argmax(real_labels,1));\n",
    "    test_acc = np.mean(test_corr.astype(np.float32));\n",
    "    print \"average acc:\", test_acc;\n",
    "    sess.close();"
   ]
  },
  {
   "cell_type": "code",
   "execution_count": null,
   "metadata": {
    "collapsed": false
   },
   "outputs": [],
   "source": []
  },
  {
   "cell_type": "code",
   "execution_count": null,
   "metadata": {
    "collapsed": false
   },
   "outputs": [],
   "source": []
  },
  {
   "cell_type": "code",
   "execution_count": null,
   "metadata": {
    "collapsed": false
   },
   "outputs": [],
   "source": []
  },
  {
   "cell_type": "code",
   "execution_count": null,
   "metadata": {
    "collapsed": false
   },
   "outputs": [],
   "source": []
  },
  {
   "cell_type": "code",
   "execution_count": null,
   "metadata": {
    "collapsed": true
   },
   "outputs": [],
   "source": []
  },
  {
   "cell_type": "code",
   "execution_count": null,
   "metadata": {
    "collapsed": false
   },
   "outputs": [],
   "source": []
  },
  {
   "cell_type": "code",
   "execution_count": null,
   "metadata": {
    "collapsed": false
   },
   "outputs": [],
   "source": []
  },
  {
   "cell_type": "code",
   "execution_count": null,
   "metadata": {
    "collapsed": false
   },
   "outputs": [],
   "source": []
  },
  {
   "cell_type": "code",
   "execution_count": null,
   "metadata": {
    "collapsed": true
   },
   "outputs": [],
   "source": []
  }
 ],
 "metadata": {
  "anaconda-cloud": {},
  "kernelspec": {
   "display_name": "Python [Root]",
   "language": "python",
   "name": "Python [Root]"
  },
  "language_info": {
   "codemirror_mode": {
    "name": "ipython",
    "version": 2
   },
   "file_extension": ".py",
   "mimetype": "text/x-python",
   "name": "python",
   "nbconvert_exporter": "python",
   "pygments_lexer": "ipython2",
   "version": "2.7.12"
  }
 },
 "nbformat": 4,
 "nbformat_minor": 1
}
