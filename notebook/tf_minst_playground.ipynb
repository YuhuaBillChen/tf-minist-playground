{
 "cells": [
  {
   "cell_type": "code",
   "execution_count": 1,
   "metadata": {
    "collapsed": false
   },
   "outputs": [],
   "source": [
    "import tensorflow as tf\n",
    "import sys\n",
    "import matplotlib.pyplot as plt\n",
    "import numpy as np\n",
    "import os"
   ]
  },
  {
   "cell_type": "code",
   "execution_count": 2,
   "metadata": {
    "collapsed": true
   },
   "outputs": [],
   "source": [
    "sys.path.append(\"../\");"
   ]
  },
  {
   "cell_type": "code",
   "execution_count": 3,
   "metadata": {
    "collapsed": false
   },
   "outputs": [],
   "source": [
    "import sropts\n",
    "from neural_networks import *"
   ]
  },
  {
   "cell_type": "code",
   "execution_count": 4,
   "metadata": {
    "collapsed": false
   },
   "outputs": [
    {
     "name": "stdout",
     "output_type": "stream",
     "text": [
      "Extracting ../data/MNIST/train-images-idx3-ubyte.gz\n",
      "Extracting ../data/MNIST/train-labels-idx1-ubyte.gz\n",
      "Extracting ../data/MNIST/t10k-images-idx3-ubyte.gz\n",
      "Extracting ../data/MNIST/t10k-labels-idx1-ubyte.gz\n"
     ]
    }
   ],
   "source": [
    "# Download / load MNIST data\n",
    "train_dir = '../data/MNIST/';\n",
    "from tensorflow.examples.tutorials.mnist import input_data\n",
    "mnist = input_data.read_data_sets(train_dir, one_hot=True);"
   ]
  },
  {
   "cell_type": "code",
   "execution_count": 5,
   "metadata": {
    "collapsed": false
   },
   "outputs": [],
   "source": [
    "# Parms\n",
    "batch_size = 128;\n",
    "image_size = 28;\n",
    "category = 10;\n",
    "learning_rate=1e-3;\n",
    "chkpt_dir = \"../chkpt/\";\n",
    "if not os.path.exists(chkpt_dir):\n",
    "    os.makedirs(chkpt_dir);"
   ]
  },
  {
   "cell_type": "code",
   "execution_count": null,
   "metadata": {
    "collapsed": false
   },
   "outputs": [],
   "source": [
    "# Build network\n",
    "\n",
    "m_nn = NeuralNetworks.ConvMNIST(64);\n",
    "x = tf.placeholder(dtype=tf.float32,shape=(batch_size, image_size, image_size,1), name='in-img');\n",
    "y = tf.placeholder(dtype=tf.float32, shape=(batch_size, category), name='in-label');\n",
    "predict = m_nn.nn_predict(x); \n",
    "m_loss = m_nn.loss(predict=predict, real=y);\n",
    "correct_prediction = tf.equal(tf.argmax(predict,1), tf.argmax(y,1))\n",
    "accuracy = tf.reduce_mean(tf.cast(correct_prediction, tf.float32))\n",
    "\n",
    "opt_op = tf.train.AdamOptimizer(learning_rate=learning_rate).minimize(m_loss);\n",
    "init_op = tf.global_variables_initializer();\n",
    "\n",
    "saver = tf.train.Saver();\n"
   ]
  },
  {
   "cell_type": "code",
   "execution_count": null,
   "metadata": {
    "collapsed": false
   },
   "outputs": [
    {
     "name": "stdout",
     "output_type": "stream",
     "text": [
      "\b epoch: 0 loss: 0.977842 acc: 0.671875"
     ]
    }
   ],
   "source": [
    "#Training phase\n",
    "with tf.Session() as sess:\n",
    "    sess.run(init_op);\n",
    "    for epoch in xrange(10):\n",
    "        count = 0;\n",
    "        while count <= mnist.train.num_examples-batch_size:\n",
    "            count += batch_size;\n",
    "            [input_x, input_y] = mnist.train.next_batch(batch_size=batch_size);\n",
    "            input_x = np.reshape(input_x, newshape=(batch_size,28,28,1));\n",
    "            \n",
    "            [comp_loss,comp_acc, __] = sess.run([m_loss, accuracy, opt_op], feed_dict={\n",
    "                    x: input_x,\n",
    "                    y: input_y\n",
    "                });\n",
    "            \n",
    "            print \"\\r\\b epoch:\",epoch, \"loss:\",comp_loss, \"acc:\", comp_acc,\n",
    "        saver.save(sess, chkpt_dir+'model.ckpt', global_step=(epoch+1)*count)\n",
    "        print \"\""
   ]
  },
  {
   "cell_type": "code",
   "execution_count": null,
   "metadata": {
    "collapsed": false
   },
   "outputs": [],
   "source": [
    "# Testing phase\n",
    "with tf.Session() as sess:\n",
    "    saver.restore(sess, chkpt_dir+\"model.chkpt\");\n",
    "    count = 0;\n",
    "    all_loss = [];\n",
    "    all_acc = [];\n",
    "    while count <= mnist.test.num_examples-batch_size:\n",
    "        count += batch_size;\n",
    "        [input_x, input_y] = mnist.test.next_batch(batch_size=batch_size);\n",
    "        input_x = np.reshape(input_x, newshape=(batch_size,28,28,1));\n",
    "\n",
    "        [comp_loss,comp_acc, __] = sess.run([m_loss, accuracy, opt_op], feed_dict={\n",
    "                x: input_x,\n",
    "                y: input_y\n",
    "            });         \n",
    "        all_loss.append(comp_loss);\n",
    "        all_acc.append(comp_acc);\n",
    "        print \"\\r\\b epoch:\",epoch, \"loss:\",comp_loss, \"acc:\", comp_acc,\n",
    "    print \"\";\n",
    "    print \"averge loss:\", np.mean(all_loss), \"average acc:\", np.mean(acc);"
   ]
  },
  {
   "cell_type": "code",
   "execution_count": null,
   "metadata": {
    "collapsed": true
   },
   "outputs": [],
   "source": []
  },
  {
   "cell_type": "code",
   "execution_count": null,
   "metadata": {
    "collapsed": true
   },
   "outputs": [],
   "source": []
  },
  {
   "cell_type": "code",
   "execution_count": null,
   "metadata": {
    "collapsed": true
   },
   "outputs": [],
   "source": []
  }
 ],
 "metadata": {
  "anaconda-cloud": {},
  "kernelspec": {
   "display_name": "Python [conda root]",
   "language": "python",
   "name": "conda-root-py"
  },
  "language_info": {
   "codemirror_mode": {
    "name": "ipython",
    "version": 2
   },
   "file_extension": ".py",
   "mimetype": "text/x-python",
   "name": "python",
   "nbconvert_exporter": "python",
   "pygments_lexer": "ipython2",
   "version": "2.7.12"
  }
 },
 "nbformat": 4,
 "nbformat_minor": 1
}
