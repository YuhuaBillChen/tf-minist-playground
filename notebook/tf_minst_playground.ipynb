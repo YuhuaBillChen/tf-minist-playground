{
 "cells": [
  {
   "cell_type": "code",
   "execution_count": 1,
   "metadata": {
    "collapsed": false
   },
   "outputs": [],
   "source": [
    "import tensorflow as tf\n",
    "import sys\n",
    "import matplotlib.pyplot as plt\n",
    "import numpy as np\n",
    "import os"
   ]
  },
  {
   "cell_type": "code",
   "execution_count": 2,
   "metadata": {
    "collapsed": true
   },
   "outputs": [],
   "source": [
    "sys.path.append(\"../\");"
   ]
  },
  {
   "cell_type": "code",
   "execution_count": 3,
   "metadata": {
    "collapsed": false
   },
   "outputs": [],
   "source": [
    "import sropts\n",
    "from neural_networks import *"
   ]
  },
  {
   "cell_type": "code",
   "execution_count": 4,
   "metadata": {
    "collapsed": false
   },
   "outputs": [
    {
     "name": "stdout",
     "output_type": "stream",
     "text": [
      "Extracting ../data/MNIST/train-images-idx3-ubyte.gz\n",
      "Extracting ../data/MNIST/train-labels-idx1-ubyte.gz\n",
      "Extracting ../data/MNIST/t10k-images-idx3-ubyte.gz\n",
      "Extracting ../data/MNIST/t10k-labels-idx1-ubyte.gz\n"
     ]
    }
   ],
   "source": [
    "# Download / load MNIST data\n",
    "train_dir = '../data/MNIST/';\n",
    "from tensorflow.examples.tutorials.mnist import input_data\n",
    "mnist = input_data.read_data_sets(train_dir, one_hot=True);"
   ]
  },
  {
   "cell_type": "code",
   "execution_count": 5,
   "metadata": {
    "collapsed": false
   },
   "outputs": [],
   "source": [
    "# Parms\n",
    "batch_size = 64;\n",
    "image_size = 28;\n",
    "category = 10;\n",
    "learning_rate=1e-3;\n",
    "chkpt_dir = \"../chkpt/\";\n",
    "if not os.path.exists(chkpt_dir):\n",
    "    os.makedirs(chkpt_dir);"
   ]
  },
  {
   "cell_type": "code",
   "execution_count": 6,
   "metadata": {
    "collapsed": false
   },
   "outputs": [],
   "source": [
    "# Build network\n",
    "\n",
    "m_nn = NeuralNetworks.ConvMNIST(64);\n",
    "x = tf.placeholder(dtype=tf.float32,shape=(batch_size, image_size, image_size,1), name='in-img');\n",
    "y = tf.placeholder(dtype=tf.float32, shape=(batch_size, category), name='in-label');\n",
    "predict = m_nn.nn_predict(x); \n",
    "m_loss = m_nn.loss(predict=predict, real=y);\n",
    "correct_prediction = tf.equal(tf.argmax(predict,1), tf.argmax(y,1))\n",
    "accuracy = tf.reduce_mean(tf.cast(correct_prediction, tf.float32))\n",
    "\n",
    "opt_op = tf.train.AdamOptimizer(learning_rate=learning_rate).minimize(m_loss);\n",
    "init_op = tf.global_variables_initializer();\n",
    "\n",
    "saver = tf.train.Saver();\n"
   ]
  },
  {
   "cell_type": "code",
   "execution_count": 9,
   "metadata": {
    "collapsed": false
   },
   "outputs": [
    {
     "name": "stdout",
     "output_type": "stream",
     "text": [
      "\b epoch: 0  image#: 54976  loss: 0.00841743 acc: 1.0 \n",
      "\b epoch: 1  image#: 54976  loss: 0.0190453 acc: 0.984375 \n",
      "\b epoch: 2  image#: 54976  loss: 0.04944 acc: 0.984375 \n",
      "\b epoch: 3  image#: 54976  loss: 0.0293756 acc: 0.984375 \n",
      "\b epoch: 4  image#: 54976  loss: 0.0282042 acc: 0.984375 \n",
      "\b epoch: 5  image#: 54976  loss: 0.0479051 acc: 0.984375 \n",
      "\b epoch: 6  image#: 54976  loss: 0.0239702 acc: 0.984375 \n",
      "\b epoch: 7  image#: 54976  loss: 0.00479308 acc: 1.0 \n",
      "\b epoch: 8  image#: 54976  loss: 0.00339093 acc: 1.0 \n",
      "\b epoch: 9  image#: 54976  loss: 0.0848073 acc: 0.984375 \n",
      "\b epoch: 10  image#: 54976  loss: 0.00266584 acc: 1.0 \n",
      "\b epoch: 11  image#: 54976  loss: 0.000393906 acc: 1.0 \n",
      "\b epoch: 12  image#: 54976  loss: 0.00572929 acc: 1.0 \n",
      "\b epoch: 13  image#: 54976  loss: 0.000453032 acc: 1.0 \n",
      "\b epoch: 14  image#: 54976  loss: 0.063358 acc: 0.984375 \n",
      "\b epoch: 15  image#: 54976  loss: 2.38039e-06 acc: 1.0 \n",
      "\b epoch: 16  image#: 54976  loss: 8.73053e-05 acc: 1.0 \n",
      "\b epoch: 17  image#: 54976  loss: 1.60555e-06 acc: 1.0 \n",
      "\b epoch: 18  image#: 54976  loss: 0.0268577 acc: 0.984375 \n",
      "\b epoch: 19  image#: 54976  loss: 0.0116925 acc: 1.0 \n"
     ]
    }
   ],
   "source": [
    "#Training phase\n",
    "with tf.Session() as sess:\n",
    "    sess.run(init_op);\n",
    "    for epoch in xrange(20):\n",
    "        count = 0;\n",
    "        while count <= mnist.train.num_examples-batch_size:\n",
    "            count += batch_size;\n",
    "            [input_x, input_y] = mnist.train.next_batch(batch_size=batch_size);\n",
    "            input_x = np.reshape(input_x, newshape=(batch_size,28,28,1));\n",
    "            \n",
    "            [comp_loss,comp_acc, __] = sess.run([m_loss, accuracy, opt_op], feed_dict={\n",
    "                    x: input_x,\n",
    "                    y: input_y\n",
    "                });\n",
    "            \n",
    "            print \"\\r\\b epoch:\",epoch, \" image#:\", count, \" loss:\", comp_loss, \"acc:\", comp_acc,\n",
    "        saver.save(sess, chkpt_dir+'model.ckpt', global_step=(epoch+1)*count)\n",
    "        print \"\""
   ]
  },
  {
   "cell_type": "code",
   "execution_count": 11,
   "metadata": {
    "collapsed": false
   },
   "outputs": [
    {
     "name": "stdout",
     "output_type": "stream",
     "text": [
      "\b loss: 0.0636326 acc: 0.984375 \n",
      "averge loss: 0.0622173 average acc: 0.98137\n"
     ]
    }
   ],
   "source": [
    "# Testing phase\n",
    "with tf.Session() as sess:\n",
    "    saver.restore(sess, chkpt_dir+\"model.ckpt-549120\");\n",
    "    count = 0;\n",
    "    all_loss = [];\n",
    "    all_acc = [];\n",
    "    while count <= mnist.test.num_examples-batch_size:\n",
    "        count += batch_size;\n",
    "        [input_x, input_y] = mnist.test.next_batch(batch_size=batch_size);\n",
    "        input_x = np.reshape(input_x, newshape=(batch_size,28,28,1));\n",
    "\n",
    "        [comp_loss,comp_acc, __] = sess.run([m_loss, accuracy, opt_op], feed_dict={\n",
    "                x: input_x,\n",
    "                y: input_y\n",
    "            });         \n",
    "        all_loss.append(comp_loss);\n",
    "        all_acc.append(comp_acc);\n",
    "        print \"\\r\\b loss:\",comp_loss, \"acc:\", comp_acc,\n",
    "    print \"\";\n",
    "    print \"averge loss:\", np.mean(all_loss), \"average acc:\", np.mean(all_acc);"
   ]
  },
  {
   "cell_type": "code",
   "execution_count": null,
   "metadata": {
    "collapsed": true
   },
   "outputs": [],
   "source": [
    "averge loss: 0.0345858 average acc: 0.992188"
   ]
  },
  {
   "cell_type": "code",
   "execution_count": 21,
   "metadata": {
    "collapsed": false
   },
   "outputs": [
    {
     "data": {
      "text/plain": [
       "9984"
      ]
     },
     "execution_count": 21,
     "metadata": {},
     "output_type": "execute_result"
    }
   ],
   "source": []
  },
  {
   "cell_type": "code",
   "execution_count": 17,
   "metadata": {
    "collapsed": false
   },
   "outputs": [
    {
     "data": {
      "text/plain": [
       "10000"
      ]
     },
     "execution_count": 17,
     "metadata": {},
     "output_type": "execute_result"
    }
   ],
   "source": [
    "mnist.test.num_examples"
   ]
  },
  {
   "cell_type": "code",
   "execution_count": null,
   "metadata": {
    "collapsed": true
   },
   "outputs": [],
   "source": []
  }
 ],
 "metadata": {
  "anaconda-cloud": {},
  "kernelspec": {
   "display_name": "Python [conda root]",
   "language": "python",
   "name": "conda-root-py"
  },
  "language_info": {
   "codemirror_mode": {
    "name": "ipython",
    "version": 2
   },
   "file_extension": ".py",
   "mimetype": "text/x-python",
   "name": "python",
   "nbconvert_exporter": "python",
   "pygments_lexer": "ipython2",
   "version": "2.7.12"
  }
 },
 "nbformat": 4,
 "nbformat_minor": 1
}
